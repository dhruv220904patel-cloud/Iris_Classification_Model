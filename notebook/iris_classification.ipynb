# Step 1: Import required libraries
from sklearn.datasets import load_iris
from sklearn.model_selection import train_test_split
from sklearn.preprocessing import StandardScaler
from sklearn.linear_model import LogisticRegression
from sklearn.metrics import accuracy_score, classification_report, confusion_matrix
import seaborn as sns
import matplotlib.pyplot as plt
import pandas as pd
import numpy as np

# Step 2: Load the Iris dataset
iris = load_iris()
X = iris.data      # features
y = iris.target    # target labels

# Step 3: Split into training and testing data (80% train, 20% test)
X_train, X_test, y_train, y_test = train_test_split(X, y, test_size=0.2, random_state=42)

# Step 4: Feature scaling
scaler = StandardScaler()
X_train = scaler.fit_transform(X_train)
X_test = scaler.transform(X_test)

# Step 5: Train a Logistic Regression model
model = LogisticRegression(max_iter=200)
model.fit(X_train, y_train)

# Step 6: Make predictions
y_pred = model.predict(X_test)

# Step 7: Evaluate the model
print("Accuracy:", accuracy_score(y_test, y_pred))
print("\nClassification Report:\n", classification_report(y_test, y_pred, target_names=iris.target_names))

# -------------------- 📊 Visualization Section --------------------

# Create a DataFrame for visualization
df = pd.DataFrame(iris.data, columns=iris.feature_names)
df['species'] = [iris.target_names[i] for i in iris.target]

# 1. Pairplot to see feature distribution
sns.pairplot(df, hue='species', palette='Set2')
plt.suptitle("Iris Dataset Feature Pairplot", y=1.02)
plt.show()

# 2. Confusion Matrix Heatmap
cm = confusion_matrix(y_test, y_pred)
plt.figure(figsize=(6, 4))
sns.heatmap(cm, annot=True, fmt='d', cmap='Blues',
            xticklabels=iris.target_names,
            yticklabels=iris.target_names)
plt.xlabel("Predicted")
plt.ylabel("Actual")
plt.title("Confusion Matrix")
plt.show()

# 3. Feature Importance (Logistic Regression Coefficients)
feature_importance = np.mean(np.abs(model.coef_), axis=0)
plt.figure(figsize=(6, 4))
sns.barplot(x=feature_importance, y=iris.feature_names, palette='viridis')
plt.title("Feature Importance")
plt.xlabel("Average Coefficient Magnitude")
plt.ylabel("Feature")
plt.show()
